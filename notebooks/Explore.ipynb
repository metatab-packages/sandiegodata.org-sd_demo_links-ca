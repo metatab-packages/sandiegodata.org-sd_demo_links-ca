{
 "cells": [
  {
   "cell_type": "code",
   "execution_count": 1,
   "metadata": {},
   "outputs": [],
   "source": [
    "import seaborn as sns\n",
    "import metapack as mp\n",
    "import pandas as pd\n",
    "import numpy as np\n",
    "import matplotlib.pyplot as plt\n",
    "from IPython.display import display \n",
    "\n",
    "%matplotlib inline\n",
    "sns.set_context('notebook')\n",
    "mp.jupyter.init()\n"
   ]
  },
  {
   "cell_type": "code",
   "execution_count": 2,
   "metadata": {},
   "outputs": [
    {
     "data": {
      "text/html": [
       "<h1>California School District Links to US Census</h1>\n",
       "<p><code>sandiegodata.org-sd_demo_links-ca-1</code> Last Update: 2019-08-08T16:47:09</p>\n",
       "<p><em>Links between CDS codes, NCES codes and school district geoids in the US census</em></p>\n",
       "<h2>Contacts</h2>\n",
       "<ul>\n",
       "<li><strong>Wrangler</strong> <a href=\"mailto:eric@civicknowledge.com\">Eric Busboom</a>, <a href=\"http://civicknowledge.com\">Civic Knowledge</a></li>\n",
       "</ul>\n",
       "<h2>Resources</h2>\n",
       "<ul>\n",
       "<li><strong> <a href=\"data/ca_sd_links.csv\">ca_sd_links</a></strong>. </li>\n",
       "</ul>\n",
       "<h2>References</h2>\n",
       "<ul>\n",
       "<li><strong><a href=\"census://2015/5/CA/sdelm/B01003\">sdelm</a></strong>. Census elementary school districts for California</li>\n",
       "<li><strong><a href=\"census://2015/5/CA/sdsec/B01003\">sdsec</a></strong>. Census secondary school districts for California</li>\n",
       "<li><strong><a href=\"census://2015/5/CA/sduni/B01003\">sduni</a></strong>. Census unified school districts for California</li>\n",
       "<li><strong><a href=\"metatab+http://library.metatab.org/cde.ca.gov-schools-1.zip#public_schools\">public_schools</a></strong>. California public schools</li>\n",
       "<li><strong><a href=\"metatab+http://library.metatab.org/cde.ca.gov-schools-1.zip#school_districts\">school_districts</a></strong>. California school districts</li>\n",
       "</ul>"
      ],
      "text/plain": [
       "# California School District Links to US Census\n",
       "`sandiegodata.org-sd_demo_links-ca-1` Last Update: 2019-08-08T16:47:09\n",
       "\n",
       "_Links between CDS codes, NCES codes and school district geoids in the US census_\n",
       "\n",
       "\n",
       "\n",
       "\n",
       " \n",
       "\n",
       "## Contacts\n",
       "\n",
       "* **Wrangler** [Eric Busboom](mailto:eric@civicknowledge.com), [Civic Knowledge](http://civicknowledge.com)\n",
       "\n",
       "## Resources\n",
       "\n",
       "* ** [ca_sd_links](data/ca_sd_links.csv)**. \n",
       "\n",
       "## References\n",
       "\n",
       "* **[sdelm](census://2015/5/CA/sdelm/B01003)**. Census elementary school districts for California\n",
       "* **[sdsec](census://2015/5/CA/sdsec/B01003)**. Census secondary school districts for California\n",
       "* **[sduni](census://2015/5/CA/sduni/B01003)**. Census unified school districts for California\n",
       "* **[public_schools](metatab+http://library.metatab.org/cde.ca.gov-schools-1.zip#public_schools)**. California public schools\n",
       "* **[school_districts](metatab+http://library.metatab.org/cde.ca.gov-schools-1.zip#school_districts)**. California school districts"
      ]
     },
     "execution_count": 2,
     "metadata": {},
     "output_type": "execute_result"
    }
   ],
   "source": [
    "pkg = mp.jupyter.open_package()\n",
    "#pkg = mp.jupyter.open_source_package()\n",
    "pkg"
   ]
  },
  {
   "cell_type": "code",
   "execution_count": 4,
   "metadata": {},
   "outputs": [],
   "source": [
    "df = pkg.resource('ca_sd_links').dataframe()"
   ]
  },
  {
   "cell_type": "code",
   "execution_count": 5,
   "metadata": {},
   "outputs": [
    {
     "data": {
      "text/html": [
       "<div>\n",
       "<style scoped>\n",
       "    .dataframe tbody tr th:only-of-type {\n",
       "        vertical-align: middle;\n",
       "    }\n",
       "\n",
       "    .dataframe tbody tr th {\n",
       "        vertical-align: top;\n",
       "    }\n",
       "\n",
       "    .dataframe thead th {\n",
       "        text-align: right;\n",
       "    }\n",
       "</style>\n",
       "<table border=\"1\" class=\"dataframe\">\n",
       "  <thead>\n",
       "    <tr style=\"text-align: right;\">\n",
       "      <th></th>\n",
       "      <th>nces_code</th>\n",
       "      <th>geoid</th>\n",
       "      <th>cd_code</th>\n",
       "      <th>district_name</th>\n",
       "      <th>sd_type</th>\n",
       "    </tr>\n",
       "  </thead>\n",
       "  <tbody>\n",
       "    <tr>\n",
       "      <th>0</th>\n",
       "      <td>601770</td>\n",
       "      <td>97000US0601770</td>\n",
       "      <td>161119</td>\n",
       "      <td>Alameda City Unified School District, California</td>\n",
       "      <td>uni</td>\n",
       "    </tr>\n",
       "    <tr>\n",
       "      <th>1</th>\n",
       "      <td>601860</td>\n",
       "      <td>97000US0601860</td>\n",
       "      <td>161127</td>\n",
       "      <td>Albany City Unified School District, California</td>\n",
       "      <td>uni</td>\n",
       "    </tr>\n",
       "    <tr>\n",
       "      <th>2</th>\n",
       "      <td>604740</td>\n",
       "      <td>97000US0604740</td>\n",
       "      <td>161143</td>\n",
       "      <td>Berkeley Unified School District, California</td>\n",
       "      <td>uni</td>\n",
       "    </tr>\n",
       "    <tr>\n",
       "      <th>3</th>\n",
       "      <td>607800</td>\n",
       "      <td>97000US0607800</td>\n",
       "      <td>161150</td>\n",
       "      <td>Castro Valley Unified School District, California</td>\n",
       "      <td>uni</td>\n",
       "    </tr>\n",
       "    <tr>\n",
       "      <th>4</th>\n",
       "      <td>612630</td>\n",
       "      <td>97000US0612630</td>\n",
       "      <td>161168</td>\n",
       "      <td>Emery Unified School District, California</td>\n",
       "      <td>uni</td>\n",
       "    </tr>\n",
       "  </tbody>\n",
       "</table>\n",
       "</div>"
      ],
      "text/plain": [
       "   nces_code           geoid  cd_code  \\\n",
       "0     601770  97000US0601770   161119   \n",
       "1     601860  97000US0601860   161127   \n",
       "2     604740  97000US0604740   161143   \n",
       "3     607800  97000US0607800   161150   \n",
       "4     612630  97000US0612630   161168   \n",
       "\n",
       "                                       district_name sd_type  \n",
       "0   Alameda City Unified School District, California     uni  \n",
       "1    Albany City Unified School District, California     uni  \n",
       "2       Berkeley Unified School District, California     uni  \n",
       "3  Castro Valley Unified School District, California     uni  \n",
       "4          Emery Unified School District, California     uni  "
      ]
     },
     "execution_count": 5,
     "metadata": {},
     "output_type": "execute_result"
    }
   ],
   "source": [
    "df.head()"
   ]
  },
  {
   "cell_type": "code",
   "execution_count": null,
   "metadata": {},
   "outputs": [],
   "source": []
  }
 ],
 "metadata": {
  "kernelspec": {
   "display_name": "Python 3",
   "language": "python",
   "name": "python3"
  },
  "language_info": {
   "codemirror_mode": {
    "name": "ipython",
    "version": 3
   },
   "file_extension": ".py",
   "mimetype": "text/x-python",
   "name": "python",
   "nbconvert_exporter": "python",
   "pygments_lexer": "ipython3",
   "version": "3.7.3"
  }
 },
 "nbformat": 4,
 "nbformat_minor": 2
}
